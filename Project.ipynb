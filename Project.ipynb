{
 "cells": [
  {
   "cell_type": "markdown",
   "id": "e9469186-aa79-4f40-8ff7-5c3c9f186491",
   "metadata": {},
   "source": [
    "Lucy de Haan, Sean Sun, Faye Shipp, Ryan Wang"
   ]
  },
  {
   "cell_type": "markdown",
   "id": "1cc90c4c-5d46-4263-8522-99136cb78521",
   "metadata": {},
   "source": [
    "Title : An Exploration of PLAICRAFT Data\n",
    "-----------------------------------------"
   ]
  },
  {
   "cell_type": "markdown",
   "id": "e2852ef3-095a-4f94-8a0d-e5c04e6df414",
   "metadata": {},
   "source": [
    "**Introduction**"
   ]
  },
  {
   "cell_type": "markdown",
   "id": "d691c346-105f-4f82-a1d5-1789ffd22f59",
   "metadata": {},
   "source": [
    " - provide some relevant background information on the topic so that someone unfamiliar with it will be prepared to understand the rest of your report\n",
    " - clearly state the question you tried to answer with your project\n",
    " - identify and fully describe the dataset that was used to answer the question"
   ]
  },
  {
   "cell_type": "markdown",
   "id": "7336d3b5-eed0-4faa-9d19-cf01edcb0db4",
   "metadata": {},
   "source": [
    "**Methods and Results**"
   ]
  },
  {
   "cell_type": "markdown",
   "id": "c03296b5-3425-4ffd-9dfc-8433d1c3bceb",
   "metadata": {},
   "source": [
    " - describe the methods you used to perform your analysis from beginning to end that narrates the analysis code.\n",
    " - your report should include code which:\n",
    "    - loads data \n",
    "    - wrangles and cleans the data to the format necessary for the planned analysis\n",
    "    - performs a summary of the data set that is relevant for exploratory data analysis related to the planned analysis \n",
    "    - creates a visualization of the dataset that is relevant for exploratory data analysis related to the planned analysis\n",
    "    - performs the data analysis\n",
    "    - creates a visualization of the analysis \n",
    "* note: all figures should have a figure number and a legend"
   ]
  },
  {
   "cell_type": "markdown",
   "id": "74973bc1-5044-4289-9fe4-009ff3b16d97",
   "metadata": {},
   "source": [
    "**Discussion**"
   ]
  },
  {
   "cell_type": "markdown",
   "id": "0ed395ff-e5c4-4c13-a936-474e658be4aa",
   "metadata": {},
   "source": [
    " - summarize what you found\n",
    " - discuss whether this is what you expected to find?\n",
    " - discuss what impact could such findings have?\n",
    " - discuss what future questions could this lead to?"
   ]
  },
  {
   "cell_type": "markdown",
   "id": "1c1acf01-0b55-4075-aa38-39c815ef77c8",
   "metadata": {},
   "source": [
    "**References**"
   ]
  },
  {
   "cell_type": "markdown",
   "id": "b8c86293-e983-4b87-b846-4c8dd10cd014",
   "metadata": {},
   "source": [
    " - You may include references if necessary, as long as they all have a consistent citation style.\n",
    "\n",
    "(I don't think we need this but I'll leave it here in case)"
   ]
  },
  {
   "cell_type": "code",
   "execution_count": null,
   "id": "01dc23a1-a299-46de-950e-bf9f377415e2",
   "metadata": {},
   "outputs": [],
   "source": []
  }
 ],
 "metadata": {
  "kernelspec": {
   "display_name": "R",
   "language": "R",
   "name": "ir"
  },
  "language_info": {
   "codemirror_mode": "r",
   "file_extension": ".r",
   "mimetype": "text/x-r-source",
   "name": "R",
   "pygments_lexer": "r",
   "version": "4.3.3"
  }
 },
 "nbformat": 4,
 "nbformat_minor": 5
}
