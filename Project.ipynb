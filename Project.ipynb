{
 "cells": [
  {
   "cell_type": "code",
   "execution_count": null,
   "id": "df0a6c9f-1b14-42e7-88f4-8d4f82e5208a",
   "metadata": {},
   "outputs": [],
   "source": [
    "Title, names, student numbers?"
   ]
  },
  {
   "cell_type": "code",
   "execution_count": null,
   "id": "d7a8a8b0-67f5-486c-bf4d-47ce5d33adc1",
   "metadata": {},
   "outputs": [],
   "source": []
  }
 ],
 "metadata": {
  "kernelspec": {
   "display_name": "R",
   "language": "R",
   "name": "ir"
  },
  "language_info": {
   "codemirror_mode": "r",
   "file_extension": ".r",
   "mimetype": "text/x-r-source",
   "name": "R",
   "pygments_lexer": "r",
   "version": "4.3.3"
  }
 },
 "nbformat": 4,
 "nbformat_minor": 5
}
