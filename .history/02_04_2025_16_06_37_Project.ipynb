{
 "cells": [
  {
   "cell_type": "markdown",
   "id": "e9469186-aa79-4f40-8ff7-5c3c9f186491",
   "metadata": {},
   "source": [
    "Lucy de Haan, Sean Sun, Faye Shipp, Ryan Wang"
   ]
  },
  {
   "cell_type": "markdown",
   "id": "1cc90c4c-5d46-4263-8522-99136cb78521",
   "metadata": {},
   "source": [
    "Title : An Exploration of PLAICRAFT Data\n",
    "-----------------------------------------"
   ]
  },
  {
   "cell_type": "markdown",
   "id": "e2852ef3-095a-4f94-8a0d-e5c04e6df414",
   "metadata": {},
   "source": [
    "**Introduction**"
   ]
  },
  {
   "cell_type": "markdown",
   "id": "d691c346-105f-4f82-a1d5-1789ffd22f59",
   "metadata": {},
   "source": [
    "We have a two datasets: one that tell us about a players Age, Experience, Hours played and a few other factors, and another dataset that records logs of playtime start and stop times.\n",
    "\n",
    "We aim to use these two datasets to answer a question of our choice through data analysis.\n",
    "\n",
    "Main Question : Given a player's Age and Experience, how many hours can we predict they will play?\n",
    "\n",
    "The dataset that we will use to answer this questions is Players.csv, the dataset that tells us about the player's experience, subscription status, email, hours played, name, gender and age.\n",
    " \n",
    " - provide some relevant background information on the topic so that someone unfamiliar with it will be prepared to understand the rest of your report\n",
    " - clearly state the question you tried to answer with your project\n",
    " - identify and fully describe the dataset that was used to answer the question\n",
    "\n",
    "_____________________________________________________________________________________________\n",
    "\n",
    "This project aims to answer the question [question here] using data collected by the Pacific Laboratoy of Artificial Intelligence at UBC. The data was collected through PLAICRAFT, a server that tracks the sessions of Mincraft played by participants. Minecraft is a video game set in a universe where everything is cube shaped, wherein players mine for precious stones and gems whilst attemping to build structures and survive the elements.\n",
    "\n",
    "The data in `players.csv` will be the foundation for answering our exploratory question.\n"
   ]
  },
  {
   "cell_type": "markdown",
   "id": "7336d3b5-eed0-4faa-9d19-cf01edcb0db4",
   "metadata": {},
   "source": [
    "**Methods and Results**"
   ]
  },
  {
   "cell_type": "markdown",
   "id": "c03296b5-3425-4ffd-9dfc-8433d1c3bceb",
   "metadata": {},
   "source": [
    "\n",
    " \n",
    " - describe the methods you used to perform your analysis from beginning to end that narrates the analysis code.\n",
    " - your report should include code which:\n",
    "    - loads data \n",
    "    - wrangles and cleans the data to the format necessary for the planned analysis\n",
    "    - performs a summary of the data set that is relevant for exploratory data analysis related to the planned analysis \n",
    "    - creates a visualization of the dataset that is relevant for exploratory data analysis related to the planned analysis\n",
    "    - performs the data analysis\n",
    "    - creates a visualization of the analysis \n",
    "* note: all figures should have a figure number and a legend\n",
    "\n",
    "_____________________________________________________________________________________________\n",
    "\n",
    "The first step is loading the tidyverse package which contains all the functions we will use to analyze the data."
   ]
  },
  {
   "cell_type": "code",
   "execution_count": null,
   "id": "4bc86c3f-7714-4421-b7b5-cca377750d6e",
   "metadata": {},
   "outputs": [],
   "source": [
    "library(tidyverse)"
   ]
  },
  {
   "cell_type": "markdown",
   "id": "393890fc-4b6b-415b-9431-868ececb89be",
   "metadata": {},
   "source": [
    "The next step is reading the `players.csv` file from the web to this file so that it can be analyzed."
   ]
  },
  {
   "cell_type": "code",
   "execution_count": null,
   "id": "ffca1787-be2e-4e83-8433-63ba521f2fc1",
   "metadata": {},
   "outputs": [],
   "source": [
    "\n",
    "url_players <- \"https://raw.githubusercontent.com/lucydehaan/Group-Project/refs/heads/main/players.csv\"\n",
    "\n",
    "players_raw <- read_csv(url_players)\n",
    "\n",
    "head(players_raw)\n",
    "\n",
    "# Hopefully we won't need sessions.csv but I'll leave the code here and we can delete later\n",
    "\n",
    "# url_sessions <- \"https://raw.githubusercontent.com/lucydehaan/Group-Project/refs/heads/main/sessions.csv\"\n",
    "\n",
    "# sessions_raw <- read_csv(url_sessions)"
   ]
  },
  {
   "cell_type": "markdown",
   "id": "f8ca2625-472b-4fde-8729-88a5b0f23a74",
   "metadata": {},
   "source": [
    "Next, we want to tidy this data so that it is easier wrangle. We will:\n",
    "\n",
    "\n",
    "1. Convert all column names to lowercase using `tolower`and separate each word with an underscore\n",
    "2. Convert data types. ex. from `< chr >` to `< fct >`"
   ]
  },
  {
   "cell_type": "code",
   "execution_count": null,
   "id": "b827e679-0d7a-4d6b-b1e0-c4cfe30d0ac4",
   "metadata": {},
   "outputs": [],
   "source": [
    "players_tidy <- players_raw |>\n",
    "    rename_with(tolower)|>\n",
    "    mutate(experience = factor(experience)) |>\n",
    "    mutate(gender = factor(gender)) |>\n",
    "    mutate(age = as.integer(age)) |>\n",
    "    rename(hashed_email = hashedemail)\n",
    "\n",
    "head(players_tidy)"
   ]
  },
  {
   "cell_type": "markdown",
   "id": "74973bc1-5044-4289-9fe4-009ff3b16d97",
   "metadata": {},
   "source": [
    "**Discussion**"
   ]
  },
  {
   "cell_type": "markdown",
   "id": "0ed395ff-e5c4-4c13-a936-474e658be4aa",
   "metadata": {},
   "source": [
    " - summarize what you found\n",
    " - discuss whether this is what you expected to find?\n",
    " - discuss what impact could such findings have?\n",
    " - discuss what future questions could this lead to?"
   ]
  },
  {
   "cell_type": "markdown",
   "id": "1c1acf01-0b55-4075-aa38-39c815ef77c8",
   "metadata": {},
   "source": [
    "**References**"
   ]
  },
  {
   "cell_type": "markdown",
   "id": "b8c86293-e983-4b87-b846-4c8dd10cd014",
   "metadata": {},
   "source": [
    " - You may include references if necessary, as long as they all have a consistent citation style.\n",
    "\n",
    "(I don't think we need this but I'll leave it here in case)"
   ]
  }
 ],
 "metadata": {
  "kernelspec": {
   "display_name": "R",
   "language": "R",
   "name": "ir"
  },
  "language_info": {
   "codemirror_mode": "r",
   "file_extension": ".r",
   "mimetype": "text/x-r-source",
   "name": "R",
   "pygments_lexer": "r",
   "version": "4.3.3"
  }
 },
 "nbformat": 4,
 "nbformat_minor": 5
}
